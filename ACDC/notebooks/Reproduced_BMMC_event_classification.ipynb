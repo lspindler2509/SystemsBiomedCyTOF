{
 "cells": [
  {
   "cell_type": "code",
   "execution_count": 1,
   "metadata": {},
   "outputs": [],
   "source": [
    "#import sys\n",
    "#sys.path.append('/dss/dsshome1/0F/di93quv/Systems_biomedicine/acdc/')\n",
    "from ACDC.random_walk_classifier import * \n",
    "from ACDC.cell_type_annotation import * "
   ]
  },
  {
   "cell_type": "code",
   "execution_count": 15,
   "metadata": {},
   "outputs": [],
   "source": [
    "#!pip install pandas numpy scikit-learn scipy seaborn matplotlib phenograph"
   ]
  },
  {
   "cell_type": "code",
   "execution_count": 10,
   "metadata": {},
   "outputs": [],
   "source": [
    "import pandas as pd\n",
    "import numpy as np\n",
    "from collections import Counter\n",
    "import pickle\n",
    "from sklearn.metrics import accuracy_score, confusion_matrix\n",
    "import phenograph\n",
    "from sklearn.model_selection import StratifiedKFold\n",
    "import time"
   ]
  },
  {
   "cell_type": "code",
   "execution_count": 3,
   "metadata": {
    "collapsed": false,
    "jupyter": {
     "outputs_hidden": false
    }
   },
   "outputs": [],
   "source": [
    "channels = ['CD45','CD45RA', 'CD19', 'CD11b', 'CD4', 'CD8', 'CD34',\n",
    "           'CD20', 'CD33', 'CD123', 'CD38', 'CD90', 'CD3']\n",
    "\n",
    "# Load the data\n",
    "path = '/dss/dsshome1/0F/di93quv/Systems_biomedicine/acdc/data/BMMC_benchmark/'\n",
    "df = pd.read_csv(path + 'BMMC_benchmark.csv.gz', sep=',', header=0, compression='gzip')\n",
    "df = df[df.cell_type != 'NotGated']\n",
    "\n",
    "\n",
    "table = pd.read_csv(path + 'BMMC_table.csv', sep=',', header=0, index_col=0)\n",
    "table = table.fillna(0)\n",
    "\n",
    "cts, channels = get_label(table)\n",
    "\n",
    "X0= np.arcsinh((df[channels].values - 1.0)/5.0)"
   ]
  },
  {
   "cell_type": "code",
   "execution_count": 4,
   "metadata": {},
   "outputs": [],
   "source": [
    "# Define helper dictionaries\n",
    "idx2ct = [key for idx, key in enumerate(table.index)]\n",
    "idx2ct.append('unknown')\n",
    "\n",
    "ct2idx = {key: idx for idx, key in enumerate(table.index)}\n",
    "ct2idx['unknown'] = len(table.index)\n",
    "        \n",
    "ct_score = np.abs(table.to_numpy()).sum(axis=1)\n",
    "\n",
    "## compute manual gated label\n",
    "y0 = np.zeros(df.cell_type.shape)\n",
    "\n",
    "for i, ct in enumerate(df.cell_type):\n",
    "    if ct in ct2idx:\n",
    "        y0[i] = ct2idx[ct]\n",
    "    else:\n",
    "        y0[i] = ct2idx['unknown']"
   ]
  },
  {
   "cell_type": "code",
   "execution_count": 9,
   "metadata": {
    "collapsed": false,
    "jupyter": {
     "outputs_hidden": false
    }
   },
   "outputs": [],
   "source": [
    "n_neighbor = 10\n",
    "thres = 0.5"
   ]
  },
  {
   "cell_type": "code",
   "execution_count": 11,
   "metadata": {
    "collapsed": false,
    "jupyter": {
     "outputs_hidden": false
    },
    "scrolled": true
   },
   "outputs": [
    {
     "name": "stdout",
     "output_type": "stream",
     "text": [
      "00 th batch\n",
      "Finding 30 nearest neighbors using minkowski metric and 'auto' algorithm\n",
      "Neighbors computed in 4.3213701248168945 seconds\n",
      "Jaccard graph constructed in 2.732866048812866 seconds\n",
      "Wrote graph to binary file in 0.26862287521362305 seconds\n",
      "Running Louvain modularity optimization\n",
      "After 1 runs, maximum modularity is Q = 0.646365\n",
      "After 2 runs, maximum modularity is Q = 0.647876\n",
      "After 6 runs, maximum modularity is Q = 0.651186\n",
      "After 21 runs, maximum modularity is Q = 0.653661\n",
      "Louvain completed 41 runs in 17.12009310722351 seconds\n",
      "Sorting communities by size, please wait ...\n",
      "PhenoGraph completed in 25.289024829864502 seconds\n",
      "Finding 30 nearest neighbors using minkowski metric and 'auto' algorithm\n",
      "Neighbors computed in 1.751307725906372 seconds\n",
      "Jaccard graph constructed in 1.7989606857299805 seconds\n",
      "Wrote graph to binary file in 0.1814587116241455 seconds\n",
      "Running Louvain modularity optimization\n",
      "After 1 runs, maximum modularity is Q = 0.59936\n",
      "After 6 runs, maximum modularity is Q = 0.602282\n",
      "Louvain completed 26 runs in 6.597296953201294 seconds\n",
      "Sorting communities by size, please wait ...\n",
      "PhenoGraph completed in 11.1316659450531 seconds\n",
      "Finding 30 nearest neighbors using minkowski metric and 'auto' algorithm\n",
      "Neighbors computed in 0.9719233512878418 seconds\n",
      "Jaccard graph constructed in 1.6587488651275635 seconds\n",
      "Wrote graph to binary file in 0.0867011547088623 seconds\n",
      "Running Louvain modularity optimization\n",
      "After 1 runs, maximum modularity is Q = 0.653638\n",
      "After 6 runs, maximum modularity is Q = 0.654887\n",
      "Louvain completed 26 runs in 4.40839695930481 seconds\n",
      "Sorting communities by size, please wait ...\n",
      "PhenoGraph completed in 7.924994707107544 seconds\n",
      "Finding 30 nearest neighbors using minkowski metric and 'auto' algorithm\n",
      "Neighbors computed in 2.1281051635742188 seconds\n",
      "Jaccard graph constructed in 1.9121103286743164 seconds\n",
      "Wrote graph to binary file in 0.21689248085021973 seconds\n",
      "Running Louvain modularity optimization\n",
      "After 1 runs, maximum modularity is Q = 0.63218\n",
      "After 10 runs, maximum modularity is Q = 0.633309\n",
      "After 19 runs, maximum modularity is Q = 0.635808\n",
      "Louvain completed 39 runs in 10.556557416915894 seconds\n",
      "Sorting communities by size, please wait ...\n",
      "PhenoGraph completed in 15.610499143600464 seconds\n",
      "Finding 30 nearest neighbors using minkowski metric and 'auto' algorithm\n",
      "Neighbors computed in 0.4321417808532715 seconds\n",
      "Jaccard graph constructed in 1.6943225860595703 seconds\n",
      "Wrote graph to binary file in 0.12369751930236816 seconds\n",
      "Running Louvain modularity optimization\n",
      "After 1 runs, maximum modularity is Q = 0.564396\n",
      "After 2 runs, maximum modularity is Q = 0.570459\n",
      "After 5 runs, maximum modularity is Q = 0.578628\n",
      "Louvain completed 25 runs in 4.317885875701904 seconds\n",
      "Sorting communities by size, please wait ...\n",
      "PhenoGraph completed in 7.403449058532715 seconds\n",
      "Finding 30 nearest neighbors using minkowski metric and 'auto' algorithm\n",
      "Neighbors computed in 0.03880453109741211 seconds\n",
      "Jaccard graph constructed in 1.0530340671539307 seconds\n",
      "Wrote graph to binary file in 0.02480149269104004 seconds\n",
      "Running Louvain modularity optimization\n",
      "After 1 runs, maximum modularity is Q = 0.507135\n",
      "After 2 runs, maximum modularity is Q = 0.509257\n",
      "After 5 runs, maximum modularity is Q = 0.515345\n",
      "After 10 runs, maximum modularity is Q = 0.516973\n",
      "Louvain completed 30 runs in 0.79132080078125 seconds\n",
      "Sorting communities by size, please wait ...\n",
      "PhenoGraph completed in 2.705838441848755 seconds\n",
      "Finding 30 nearest neighbors using minkowski metric and 'auto' algorithm\n",
      "Neighbors computed in 0.0340421199798584 seconds\n",
      "Jaccard graph constructed in 0.9246597290039062 seconds\n",
      "Wrote graph to binary file in 0.01636028289794922 seconds\n",
      "Running Louvain modularity optimization\n",
      "After 1 runs, maximum modularity is Q = 0.57263\n",
      "Louvain completed 21 runs in 0.33966732025146484 seconds\n",
      "Sorting communities by size, please wait ...\n",
      "PhenoGraph completed in 2.082993268966675 seconds\n",
      "Finding 30 nearest neighbors using minkowski metric and 'auto' algorithm\n",
      "Neighbors computed in 0.1356220245361328 seconds\n",
      "Jaccard graph constructed in 1.1745092868804932 seconds\n",
      "Wrote graph to binary file in 0.028679609298706055 seconds\n",
      "Running Louvain modularity optimization\n",
      "After 1 runs, maximum modularity is Q = 0.661018\n",
      "After 5 runs, maximum modularity is Q = 0.662375\n",
      "After 6 runs, maximum modularity is Q = 0.665726\n",
      "Louvain completed 26 runs in 1.1252284049987793 seconds\n",
      "Sorting communities by size, please wait ...\n",
      "PhenoGraph completed in 3.226701259613037 seconds\n",
      "Finding 30 nearest neighbors using minkowski metric and 'auto' algorithm\n",
      "Neighbors computed in 0.05572009086608887 seconds\n",
      "Jaccard graph constructed in 0.9764471054077148 seconds\n",
      "Wrote graph to binary file in 0.027404308319091797 seconds\n",
      "Running Louvain modularity optimization\n",
      "After 1 runs, maximum modularity is Q = 0.672779\n",
      "After 2 runs, maximum modularity is Q = 0.674526\n",
      "Louvain completed 22 runs in 0.5076496601104736 seconds\n",
      "Sorting communities by size, please wait ...\n",
      "PhenoGraph completed in 2.306213855743408 seconds\n",
      "Finding 30 nearest neighbors using minkowski metric and 'auto' algorithm\n",
      "Neighbors computed in 0.706810712814331 seconds\n",
      "Jaccard graph constructed in 1.5064713954925537 seconds\n",
      "Wrote graph to binary file in 0.08265233039855957 seconds\n",
      "Running Louvain modularity optimization\n",
      "After 1 runs, maximum modularity is Q = 0.599802\n",
      "After 2 runs, maximum modularity is Q = 0.605871\n",
      "After 5 runs, maximum modularity is Q = 0.608211\n",
      "Louvain completed 25 runs in 4.117825984954834 seconds\n",
      "Sorting communities by size, please wait ...\n",
      "PhenoGraph completed in 7.260470151901245 seconds\n",
      "Finding 30 nearest neighbors using minkowski metric and 'auto' algorithm\n",
      "Neighbors computed in 0.07811403274536133 seconds\n",
      "Jaccard graph constructed in 1.105590581893921 seconds\n",
      "Wrote graph to binary file in 0.03701639175415039 seconds\n",
      "Running Louvain modularity optimization\n",
      "After 1 runs, maximum modularity is Q = 0.634724\n",
      "After 8 runs, maximum modularity is Q = 0.639891\n",
      "Louvain completed 28 runs in 1.0617680549621582 seconds\n",
      "Sorting communities by size, please wait ...\n",
      "PhenoGraph completed in 3.0974509716033936 seconds\n",
      "Finding 30 nearest neighbors using minkowski metric and 'auto' algorithm\n",
      "Neighbors computed in 0.2830963134765625 seconds\n",
      "Jaccard graph constructed in 1.2746100425720215 seconds\n",
      "Wrote graph to binary file in 0.0715341567993164 seconds\n",
      "Running Louvain modularity optimization\n",
      "After 1 runs, maximum modularity is Q = 0.595587\n",
      "After 3 runs, maximum modularity is Q = 0.596621\n",
      "After 4 runs, maximum modularity is Q = 0.598318\n",
      "Louvain completed 24 runs in 1.8711645603179932 seconds\n",
      "Sorting communities by size, please wait ...\n",
      "PhenoGraph completed in 4.263356685638428 seconds\n",
      "Finding 30 nearest neighbors using minkowski metric and 'auto' algorithm\n",
      "Neighbors computed in 0.022374868392944336 seconds\n",
      "Jaccard graph constructed in 0.8208451271057129 seconds\n",
      "Wrote graph to binary file in 0.008552312850952148 seconds\n",
      "Running Louvain modularity optimization\n",
      "After 1 runs, maximum modularity is Q = 0.530715\n",
      "Louvain completed 21 runs in 0.2148747444152832 seconds\n",
      "Sorting communities by size, please wait ...\n",
      "PhenoGraph completed in 1.8044068813323975 seconds\n",
      "Finding 30 nearest neighbors using minkowski metric and 'auto' algorithm\n",
      "Neighbors computed in 0.030177593231201172 seconds\n",
      "Jaccard graph constructed in 0.856020450592041 seconds\n",
      "Wrote graph to binary file in 0.017008543014526367 seconds\n",
      "Running Louvain modularity optimization\n",
      "After 1 runs, maximum modularity is Q = 0.510669\n",
      "After 2 runs, maximum modularity is Q = 0.512095\n",
      "After 3 runs, maximum modularity is Q = 0.515121\n",
      "After 5 runs, maximum modularity is Q = 0.516227\n",
      "Louvain completed 25 runs in 0.4009251594543457 seconds\n",
      "Sorting communities by size, please wait ...\n",
      "PhenoGraph completed in 2.051509380340576 seconds\n",
      "Finding 30 nearest neighbors using minkowski metric and 'auto' algorithm\n",
      "Neighbors computed in 0.03089451789855957 seconds\n",
      "Jaccard graph constructed in 0.8768813610076904 seconds\n",
      "Wrote graph to binary file in 0.017572641372680664 seconds\n",
      "Running Louvain modularity optimization\n",
      "After 1 runs, maximum modularity is Q = 0.471866\n",
      "After 2 runs, maximum modularity is Q = 0.473044\n",
      "After 4 runs, maximum modularity is Q = 0.477183\n",
      "Louvain completed 24 runs in 0.39775991439819336 seconds\n",
      "Sorting communities by size, please wait ...\n",
      "PhenoGraph completed in 2.0874202251434326 seconds\n",
      "Finding 30 nearest neighbors using minkowski metric and 'auto' algorithm\n",
      "Neighbors computed in 0.041155338287353516 seconds\n",
      "Jaccard graph constructed in 0.9355061054229736 seconds\n",
      "Wrote graph to binary file in 0.013910531997680664 seconds\n",
      "Running Louvain modularity optimization\n",
      "After 1 runs, maximum modularity is Q = 0.612453\n",
      "After 3 runs, maximum modularity is Q = 0.614105\n",
      "After 14 runs, maximum modularity is Q = 0.615239\n",
      "Louvain completed 34 runs in 0.6726369857788086 seconds\n",
      "Sorting communities by size, please wait ...\n",
      "PhenoGraph completed in 2.453456163406372 seconds\n",
      "Finding 30 nearest neighbors using minkowski metric and 'auto' algorithm\n",
      "Neighbors computed in 0.025974273681640625 seconds\n",
      "Jaccard graph constructed in 0.832317590713501 seconds\n",
      "Wrote graph to binary file in 0.012836694717407227 seconds\n",
      "Running Louvain modularity optimization\n",
      "After 1 runs, maximum modularity is Q = 0.477833\n",
      "After 2 runs, maximum modularity is Q = 0.485785\n",
      "Louvain completed 22 runs in 0.2708754539489746 seconds\n",
      "Sorting communities by size, please wait ...\n",
      "PhenoGraph completed in 1.9429280757904053 seconds\n",
      "Finding 30 nearest neighbors using minkowski metric and 'auto' algorithm\n",
      "Neighbors computed in 0.09070086479187012 seconds\n",
      "Jaccard graph constructed in 1.1329927444458008 seconds\n",
      "Wrote graph to binary file in 0.03335690498352051 seconds\n",
      "Running Louvain modularity optimization\n",
      "After 1 runs, maximum modularity is Q = 0.622104\n",
      "After 18 runs, maximum modularity is Q = 0.623734\n",
      "Louvain completed 38 runs in 1.2099924087524414 seconds\n",
      "Sorting communities by size, please wait ...\n",
      "PhenoGraph completed in 3.252197742462158 seconds\n",
      "Finding 30 nearest neighbors using minkowski metric and 'auto' algorithm\n",
      "Neighbors computed in 0.19072675704956055 seconds\n",
      "Jaccard graph constructed in 1.2477662563323975 seconds\n",
      "Wrote graph to binary file in 0.052936553955078125 seconds\n",
      "Running Louvain modularity optimization\n",
      "After 1 runs, maximum modularity is Q = 0.706578\n",
      "After 2 runs, maximum modularity is Q = 0.708954\n",
      "After 8 runs, maximum modularity is Q = 0.710539\n",
      "Louvain completed 28 runs in 1.5739543437957764 seconds\n",
      "Sorting communities by size, please wait ...\n",
      "PhenoGraph completed in 3.875105857849121 seconds\n",
      "Finding 30 nearest neighbors using minkowski metric and 'auto' algorithm\n",
      "Neighbors computed in 4.389768838882446 seconds\n",
      "Jaccard graph constructed in 4.723653793334961 seconds\n",
      "Wrote graph to binary file in 0.453810453414917 seconds\n",
      "Running Louvain modularity optimization\n",
      "After 1 runs, maximum modularity is Q = 0.846376\n",
      "After 3 runs, maximum modularity is Q = 0.84756\n",
      "Louvain completed 23 runs in 21.374606609344482 seconds\n",
      "Sorting communities by size, please wait ...\n",
      "PhenoGraph completed in 31.918137073516846 seconds\n",
      "Finding 30 nearest neighbors using minkowski metric and 'auto' algorithm\n",
      "Neighbors computed in 17.830453395843506 seconds\n",
      "Jaccard graph constructed in 13.568447351455688 seconds\n",
      "Wrote graph to binary file in 1.2334775924682617 seconds\n",
      "Running Louvain modularity optimization\n",
      "After 1 runs, maximum modularity is Q = 0.877366\n",
      "Louvain completed 21 runs in 88.3636679649353 seconds\n",
      "Sorting communities by size, please wait ...\n",
      "PhenoGraph completed in 122.29191637039185 seconds\n"
     ]
    },
    {
     "ename": "FileNotFoundError",
     "evalue": "[Errno 2] No such file or directory: 'processed_file/BMMC/event_classification_BMMC.p'",
     "output_type": "error",
     "traceback": [
      "\u001b[0;31m---------------------------------------------------------------------------\u001b[0m",
      "\u001b[0;31mFileNotFoundError\u001b[0m                         Traceback (most recent call last)",
      "Cell \u001b[0;32mIn[11], line 71\u001b[0m\n\u001b[1;32m     69\u001b[0m     \u001b[38;5;66;03m# Save results\u001b[39;00m\n\u001b[1;32m     70\u001b[0m     result\u001b[38;5;241m.\u001b[39mappend((y_true, y_pred, y_pred_index, y_pred_oracle))\n\u001b[0;32m---> 71\u001b[0m     pickle\u001b[38;5;241m.\u001b[39mdump(result, \u001b[38;5;28;43mopen\u001b[39;49m\u001b[43m(\u001b[49m\u001b[38;5;124;43m'\u001b[39;49m\u001b[38;5;124;43mprocessed_file/BMMC/event_classification_BMMC.p\u001b[39;49m\u001b[38;5;124;43m'\u001b[39;49m\u001b[43m,\u001b[49m\u001b[43m \u001b[49m\u001b[38;5;124;43m'\u001b[39;49m\u001b[38;5;124;43mwb\u001b[39;49m\u001b[38;5;124;43m'\u001b[39;49m\u001b[43m)\u001b[49m)\n\u001b[1;32m     73\u001b[0m \u001b[38;5;66;03m# Output results\u001b[39;00m\n\u001b[1;32m     74\u001b[0m \u001b[38;5;28mprint\u001b[39m(\u001b[38;5;124m\"\u001b[39m\u001b[38;5;124mScores:\u001b[39m\u001b[38;5;124m\"\u001b[39m, score_final)\n",
      "File \u001b[0;32m/usr/local/lib/python3.10/dist-packages/IPython/core/interactiveshell.py:284\u001b[0m, in \u001b[0;36m_modified_open\u001b[0;34m(file, *args, **kwargs)\u001b[0m\n\u001b[1;32m    277\u001b[0m \u001b[38;5;28;01mif\u001b[39;00m file \u001b[38;5;129;01min\u001b[39;00m {\u001b[38;5;241m0\u001b[39m, \u001b[38;5;241m1\u001b[39m, \u001b[38;5;241m2\u001b[39m}:\n\u001b[1;32m    278\u001b[0m     \u001b[38;5;28;01mraise\u001b[39;00m \u001b[38;5;167;01mValueError\u001b[39;00m(\n\u001b[1;32m    279\u001b[0m         \u001b[38;5;124mf\u001b[39m\u001b[38;5;124m\"\u001b[39m\u001b[38;5;124mIPython won\u001b[39m\u001b[38;5;124m'\u001b[39m\u001b[38;5;124mt let you open fd=\u001b[39m\u001b[38;5;132;01m{\u001b[39;00mfile\u001b[38;5;132;01m}\u001b[39;00m\u001b[38;5;124m by default \u001b[39m\u001b[38;5;124m\"\u001b[39m\n\u001b[1;32m    280\u001b[0m         \u001b[38;5;124m\"\u001b[39m\u001b[38;5;124mas it is likely to crash IPython. If you know what you are doing, \u001b[39m\u001b[38;5;124m\"\u001b[39m\n\u001b[1;32m    281\u001b[0m         \u001b[38;5;124m\"\u001b[39m\u001b[38;5;124myou can use builtins\u001b[39m\u001b[38;5;124m'\u001b[39m\u001b[38;5;124m open.\u001b[39m\u001b[38;5;124m\"\u001b[39m\n\u001b[1;32m    282\u001b[0m     )\n\u001b[0;32m--> 284\u001b[0m \u001b[38;5;28;01mreturn\u001b[39;00m \u001b[43mio_open\u001b[49m\u001b[43m(\u001b[49m\u001b[43mfile\u001b[49m\u001b[43m,\u001b[49m\u001b[43m \u001b[49m\u001b[38;5;241;43m*\u001b[39;49m\u001b[43margs\u001b[49m\u001b[43m,\u001b[49m\u001b[43m \u001b[49m\u001b[38;5;241;43m*\u001b[39;49m\u001b[38;5;241;43m*\u001b[39;49m\u001b[43mkwargs\u001b[49m\u001b[43m)\u001b[49m\n",
      "\u001b[0;31mFileNotFoundError\u001b[0m: [Errno 2] No such file or directory: 'processed_file/BMMC/event_classification_BMMC.p'"
     ]
    }
   ],
   "source": [
    "# Initialize variables\n",
    "skf = StratifiedKFold(n_splits=5, shuffle=True, random_state=0)\n",
    "result = []\n",
    "score_final = []\n",
    "process_time = []\n",
    "\n",
    "c = 0\n",
    "for tr, te in skf.split(X0, y0):\n",
    "    print('%02d th batch' % c)\n",
    "    if c == 1:\n",
    "        break  # Stop after first batch for testing\n",
    "    c += 1\n",
    "    \n",
    "    # Prepare data\n",
    "    X = X0[tr, :]\n",
    "    y_true = y0[tr]\n",
    "\n",
    "    mk_model = compute_marker_model(pd.DataFrame(X, columns=channels), table, 0.0)\n",
    "\n",
    "    # Compute posterior probabilities\n",
    "    tic = time.perf_counter()\n",
    "    score = get_score_mat(X, [], table, [], mk_model)\n",
    "    score = np.concatenate([score, 1.0 - score.max(axis=1)[:, np.newaxis]], axis=1)\n",
    "\n",
    "    # Get indices\n",
    "    ct_index = get_unique_index(X, score, table, thres)\n",
    "\n",
    "    # Baseline - classify events\n",
    "    y_pred_index = np.argmax(score, axis=1)\n",
    "    toc = time.perf_counter()\n",
    "    time0 = toc - tic\n",
    "\n",
    "    # Run ACDC\n",
    "    tic = time.perf_counter()\n",
    "    res_c = get_landmarks(X, score, ct_index, idx2ct, phenograph, thres)\n",
    "\n",
    "    landmark_mat, landmark_label = output_feature_matrix(res_c, [idx2ct[i] for i in range(len(idx2ct))])\n",
    "    landmark_label = np.array(landmark_label)\n",
    "\n",
    "    lp, y_pred = rm_classify(X, landmark_mat, landmark_label, n_neighbor)\n",
    "    toc = time.perf_counter()\n",
    "    time1 = toc - tic\n",
    "\n",
    "    # Run phenograph classification\n",
    "    tic = time.perf_counter()\n",
    "    res = phenograph.cluster(X, k=30, directed=False, prune=False, min_cluster_size=10, jaccard=True,\n",
    "                              primary_metric='euclidean', n_jobs=-1, q_tol=1e-3)\n",
    "    toc = time.perf_counter()\n",
    "    time2 = toc - tic\n",
    "\n",
    "    tic = time.perf_counter()\n",
    "    y_pred_oracle = np.zeros_like(y_true)\n",
    "    for i in range(max(res[0]) + 1):\n",
    "        ic, nc = Counter(y_true[res[0] == i]).most_common(1)[0]\n",
    "        y_pred_oracle[res[0] == i] = ic\n",
    "    toc = time.perf_counter()\n",
    "    time3 = toc - tic\n",
    "\n",
    "    # Record accuracy scores\n",
    "    score_final.append([\n",
    "        accuracy_score(y_true, [ct2idx[c] for c in y_pred]),\n",
    "        accuracy_score(y_true, y_pred_index),\n",
    "        accuracy_score(y_true, y_pred_oracle)\n",
    "    ])\n",
    "\n",
    "    # Record times\n",
    "    process_time.append((time0, time1, time2, time3))\n",
    "\n",
    "    # Save results\n",
    "    result.append((y_true, y_pred, y_pred_index, y_pred_oracle))\n",
    "    pickle.dump(result, open('processed_file/BMMC/event_classification_BMMC.p', 'wb'))\n",
    "\n",
    "# Output results\n",
    "print(\"Scores:\", score_final)\n",
    "print(\"Processing times:\", process_time)"
   ]
  },
  {
   "cell_type": "code",
   "execution_count": 12,
   "metadata": {
    "collapsed": false,
    "jupyter": {
     "outputs_hidden": false
    }
   },
   "outputs": [
    {
     "data": {
      "text/plain": [
       "array([0.92181599, 0.80006728, 0.94232151])"
      ]
     },
     "execution_count": 12,
     "metadata": {},
     "output_type": "execute_result"
    }
   ],
   "source": [
    "np.mean(score_final, axis = 0) # score of ACDC, score-based classification, phenograph classification"
   ]
  },
  {
   "cell_type": "code",
   "execution_count": 13,
   "metadata": {
    "collapsed": false,
    "jupyter": {
     "outputs_hidden": false
    }
   },
   "outputs": [
    {
     "data": {
      "text/plain": [
       "[[0.9218159854427573, 0.8000672813737634, 0.9423215132192608]]"
      ]
     },
     "execution_count": 13,
     "metadata": {},
     "output_type": "execute_result"
    }
   ],
   "source": [
    "score_final"
   ]
  },
  {
   "cell_type": "code",
   "execution_count": 14,
   "metadata": {
    "collapsed": false,
    "jupyter": {
     "outputs_hidden": false
    }
   },
   "outputs": [
    {
     "data": {
      "text/plain": [
       "array([2.73794864e-01, 2.09678506e+02, 1.22295478e+02, 4.06807610e-02])"
      ]
     },
     "execution_count": 14,
     "metadata": {},
     "output_type": "execute_result"
    }
   ],
   "source": [
    "np.mean(process_time, axis = 0)"
   ]
  },
  {
   "cell_type": "code",
   "execution_count": null,
   "metadata": {},
   "outputs": [],
   "source": []
  }
 ],
 "metadata": {
  "anaconda-cloud": {},
  "kernelspec": {
   "display_name": "Python 3 (ipykernel)",
   "language": "python",
   "name": "python3"
  },
  "language_info": {
   "codemirror_mode": {
    "name": "ipython",
    "version": 3
   },
   "file_extension": ".py",
   "mimetype": "text/x-python",
   "name": "python",
   "nbconvert_exporter": "python",
   "pygments_lexer": "ipython3",
   "version": "3.10.6"
  }
 },
 "nbformat": 4,
 "nbformat_minor": 4
}
