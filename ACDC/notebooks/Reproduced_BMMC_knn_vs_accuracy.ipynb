{
 "cells": [
  {
   "cell_type": "code",
   "execution_count": 1,
   "metadata": {},
   "outputs": [],
   "source": [
    "#import sys\n",
    "#sys.path.append('/dss/dsshome1/0F/di93quv/Systems_biomedicine/acdc/')\n",
    "from ACDC.random_walk_classifier import * \n",
    "from ACDC.cell_type_annotation import * "
   ]
  },
  {
   "cell_type": "code",
   "execution_count": 16,
   "metadata": {},
   "outputs": [],
   "source": [
    "#!pip install pandas numpy scikit-learn scipy seaborn matplotlib phenograph"
   ]
  },
  {
   "cell_type": "code",
   "execution_count": 8,
   "metadata": {},
   "outputs": [],
   "source": [
    "import time\n",
    "import pandas as pd\n",
    "import numpy as np\n",
    "from collections import Counter\n",
    "import pickle\n",
    "from sklearn.metrics import accuracy_score, confusion_matrix\n",
    "import phenograph"
   ]
  },
  {
   "cell_type": "code",
   "execution_count": 4,
   "metadata": {
    "collapsed": false,
    "jupyter": {
     "outputs_hidden": false
    }
   },
   "outputs": [],
   "source": [
    "channels = ['CD45','CD45RA', 'CD19', 'CD11b', 'CD4', 'CD8', 'CD34',\n",
    "           'CD20', 'CD33', 'CD123', 'CD38', 'CD90', 'CD3']\n",
    "\n",
    "# Load the data\n",
    "path = '/dss/dsshome1/0F/di93quv/Systems_biomedicine/acdc/data/BMMC_benchmark/'\n",
    "df = pd.read_csv(path + 'BMMC_benchmark.csv.gz', sep=',', header=0, compression='gzip')\n",
    "df = df[df.cell_type != 'NotGated']\n",
    "\n",
    "\n",
    "table = pd.read_csv(path + 'BMMC_table.csv', sep=',', header=0, index_col=0)\n",
    "table = table.fillna(0)\n",
    "\n",
    "cts, channels = get_label(table)\n",
    "\n",
    "X0= np.arcsinh((df[channels].values - 1.0)/5.0)"
   ]
  },
  {
   "cell_type": "code",
   "execution_count": 6,
   "metadata": {},
   "outputs": [],
   "source": [
    "# Define helper dictionaries\n",
    "idx2ct = [key for idx, key in enumerate(table.index)]\n",
    "idx2ct.append('unknown')\n",
    "\n",
    "ct2idx = {key: idx for idx, key in enumerate(table.index)}\n",
    "ct2idx['unknown'] = len(table.index)\n",
    "        \n",
    "ct_score = np.abs(table.to_numpy()).sum(axis=1)\n",
    "\n",
    "## compute manual gated label\n",
    "y0 = np.zeros(df.cell_type.shape)\n",
    "\n",
    "for i, ct in enumerate(df.cell_type):\n",
    "    if ct in ct2idx:\n",
    "        y0[i] = ct2idx[ct]\n",
    "    else:\n",
    "        y0[i] = ct2idx['unknown']"
   ]
  },
  {
   "cell_type": "code",
   "execution_count": 7,
   "metadata": {
    "collapsed": false,
    "jupyter": {
     "outputs_hidden": false
    }
   },
   "outputs": [],
   "source": [
    "thres = 0.5"
   ]
  },
  {
   "cell_type": "code",
   "execution_count": 10,
   "metadata": {
    "collapsed": false,
    "jupyter": {
     "outputs_hidden": false
    }
   },
   "outputs": [
    {
     "name": "stdout",
     "output_type": "stream",
     "text": [
      "Finding 30 nearest neighbors using minkowski metric and 'auto' algorithm\n",
      "Neighbors computed in 50.53551173210144 seconds\n",
      "Jaccard graph constructed in 22.817151308059692 seconds\n",
      "Wrote graph to binary file in 1.556551456451416 seconds\n",
      "Running Louvain modularity optimization\n",
      "After 1 runs, maximum modularity is Q = 0.878095\n",
      "Louvain completed 21 runs in 116.6292769908905 seconds\n",
      "Sorting communities by size, please wait ...\n",
      "PhenoGraph completed in 192.89297580718994 seconds\n",
      "Elapsed time: 192.90 seconds\n"
     ]
    }
   ],
   "source": [
    "tic = time.perf_counter()  # Start the timer\n",
    "phenograph.cluster(X0)\n",
    "toc = time.perf_counter()  # Stop the timer\n",
    "print(f\"Elapsed time: {toc - tic:.2f} seconds\")"
   ]
  },
  {
   "cell_type": "code",
   "execution_count": 12,
   "metadata": {
    "collapsed": false,
    "jupyter": {
     "outputs_hidden": false
    },
    "scrolled": true
   },
   "outputs": [
    {
     "name": "stdout",
     "output_type": "stream",
     "text": [
      "Finding 30 nearest neighbors using minkowski metric and 'auto' algorithm\n",
      "Neighbors computed in 6.783504247665405 seconds\n",
      "Jaccard graph constructed in 2.8109443187713623 seconds\n",
      "Wrote graph to binary file in 0.30356287956237793 seconds\n",
      "Running Louvain modularity optimization\n",
      "After 1 runs, maximum modularity is Q = 0.655157\n",
      "Louvain completed 21 runs in 11.653422355651855 seconds\n",
      "Sorting communities by size, please wait ...\n",
      "PhenoGraph completed in 22.4973464012146 seconds\n",
      "Finding 30 nearest neighbors using minkowski metric and 'auto' algorithm\n",
      "Neighbors computed in 1.1239781379699707 seconds\n",
      "Jaccard graph constructed in 2.373694896697998 seconds\n",
      "Wrote graph to binary file in 0.15328764915466309 seconds\n",
      "Running Louvain modularity optimization\n",
      "After 1 runs, maximum modularity is Q = 0.602655\n",
      "After 3 runs, maximum modularity is Q = 0.60542\n",
      "After 10 runs, maximum modularity is Q = 0.606848\n",
      "After 15 runs, maximum modularity is Q = 0.608913\n",
      "Louvain completed 35 runs in 10.749405145645142 seconds\n",
      "Sorting communities by size, please wait ...\n",
      "PhenoGraph completed in 15.326976776123047 seconds\n",
      "Finding 30 nearest neighbors using minkowski metric and 'auto' algorithm\n",
      "Neighbors computed in 1.348968744277954 seconds\n",
      "Jaccard graph constructed in 2.027778148651123 seconds\n",
      "Wrote graph to binary file in 0.1737067699432373 seconds\n",
      "Running Louvain modularity optimization\n",
      "After 1 runs, maximum modularity is Q = 0.650285\n",
      "After 2 runs, maximum modularity is Q = 0.657302\n",
      "After 4 runs, maximum modularity is Q = 0.659422\n",
      "Louvain completed 24 runs in 5.376605987548828 seconds\n",
      "Sorting communities by size, please wait ...\n",
      "PhenoGraph completed in 9.847173690795898 seconds\n",
      "Finding 30 nearest neighbors using minkowski metric and 'auto' algorithm\n",
      "Neighbors computed in 2.991461753845215 seconds\n",
      "Jaccard graph constructed in 2.384219169616699 seconds\n",
      "Wrote graph to binary file in 0.175811767578125 seconds\n",
      "Running Louvain modularity optimization\n",
      "After 1 runs, maximum modularity is Q = 0.639041\n",
      "After 2 runs, maximum modularity is Q = 0.640917\n",
      "Louvain completed 22 runs in 7.5213422775268555 seconds\n",
      "Sorting communities by size, please wait ...\n",
      "PhenoGraph completed in 13.979777097702026 seconds\n",
      "Finding 30 nearest neighbors using minkowski metric and 'auto' algorithm\n",
      "Neighbors computed in 1.2340803146362305 seconds\n",
      "Jaccard graph constructed in 1.8896324634552002 seconds\n",
      "Wrote graph to binary file in 0.1563732624053955 seconds\n",
      "Running Louvain modularity optimization\n",
      "After 1 runs, maximum modularity is Q = 0.576854\n",
      "After 2 runs, maximum modularity is Q = 0.577884\n",
      "After 3 runs, maximum modularity is Q = 0.585068\n",
      "Louvain completed 23 runs in 4.988163709640503 seconds\n",
      "Sorting communities by size, please wait ...\n",
      "PhenoGraph completed in 9.18912124633789 seconds\n",
      "Finding 30 nearest neighbors using minkowski metric and 'auto' algorithm\n",
      "Neighbors computed in 0.07665061950683594 seconds\n",
      "Jaccard graph constructed in 1.1121466159820557 seconds\n",
      "Wrote graph to binary file in 0.026367902755737305 seconds\n",
      "Running Louvain modularity optimization\n",
      "After 1 runs, maximum modularity is Q = 0.50303\n",
      "After 5 runs, maximum modularity is Q = 0.507504\n",
      "Louvain completed 25 runs in 0.7451128959655762 seconds\n",
      "Sorting communities by size, please wait ...\n",
      "PhenoGraph completed in 2.7879395484924316 seconds\n",
      "Finding 30 nearest neighbors using minkowski metric and 'auto' algorithm\n",
      "Neighbors computed in 0.028646469116210938 seconds\n",
      "Jaccard graph constructed in 1.0130424499511719 seconds\n",
      "Wrote graph to binary file in 0.019884824752807617 seconds\n",
      "Running Louvain modularity optimization\n",
      "After 1 runs, maximum modularity is Q = 0.580046\n",
      "After 6 runs, maximum modularity is Q = 0.581746\n",
      "Louvain completed 26 runs in 0.46553874015808105 seconds\n",
      "Sorting communities by size, please wait ...\n",
      "PhenoGraph completed in 2.367429494857788 seconds\n",
      "Finding 30 nearest neighbors using minkowski metric and 'auto' algorithm\n",
      "Neighbors computed in 0.12254071235656738 seconds\n",
      "Jaccard graph constructed in 1.3036532402038574 seconds\n",
      "Wrote graph to binary file in 0.05404853820800781 seconds\n",
      "Running Louvain modularity optimization\n",
      "After 1 runs, maximum modularity is Q = 0.667909\n",
      "After 2 runs, maximum modularity is Q = 0.675134\n",
      "Louvain completed 22 runs in 1.1967971324920654 seconds\n",
      "Sorting communities by size, please wait ...\n",
      "PhenoGraph completed in 3.5906600952148438 seconds\n",
      "Finding 30 nearest neighbors using minkowski metric and 'auto' algorithm\n",
      "Neighbors computed in 0.05829930305480957 seconds\n",
      "Jaccard graph constructed in 1.172520399093628 seconds\n",
      "Wrote graph to binary file in 0.02799510955810547 seconds\n",
      "Running Louvain modularity optimization\n",
      "After 1 runs, maximum modularity is Q = 0.67508\n",
      "After 2 runs, maximum modularity is Q = 0.676348\n",
      "After 5 runs, maximum modularity is Q = 0.678508\n",
      "After 7 runs, maximum modularity is Q = 0.679707\n",
      "Louvain completed 27 runs in 0.8580155372619629 seconds\n",
      "Sorting communities by size, please wait ...\n",
      "PhenoGraph completed in 3.052145481109619 seconds\n",
      "Finding 30 nearest neighbors using minkowski metric and 'auto' algorithm\n",
      "Neighbors computed in 1.0814294815063477 seconds\n",
      "Jaccard graph constructed in 1.8188657760620117 seconds\n",
      "Wrote graph to binary file in 0.1493368148803711 seconds\n",
      "Running Louvain modularity optimization\n",
      "After 1 runs, maximum modularity is Q = 0.612934\n",
      "After 14 runs, maximum modularity is Q = 0.615071\n",
      "Louvain completed 34 runs in 7.076951265335083 seconds\n",
      "Sorting communities by size, please wait ...\n",
      "PhenoGraph completed in 11.110654830932617 seconds\n",
      "Finding 30 nearest neighbors using minkowski metric and 'auto' algorithm\n",
      "Neighbors computed in 0.1075127124786377 seconds\n",
      "Jaccard graph constructed in 1.338092565536499 seconds\n",
      "Wrote graph to binary file in 0.029247760772705078 seconds\n",
      "Running Louvain modularity optimization\n",
      "After 1 runs, maximum modularity is Q = 0.645597\n",
      "After 2 runs, maximum modularity is Q = 0.650413\n",
      "After 5 runs, maximum modularity is Q = 0.652541\n",
      "After 10 runs, maximum modularity is Q = 0.653731\n",
      "After 17 runs, maximum modularity is Q = 0.655063\n",
      "Louvain completed 37 runs in 1.787916660308838 seconds\n",
      "Sorting communities by size, please wait ...\n",
      "PhenoGraph completed in 4.159091472625732 seconds\n",
      "Finding 30 nearest neighbors using minkowski metric and 'auto' algorithm\n",
      "Neighbors computed in 0.455857515335083 seconds\n",
      "Jaccard graph constructed in 1.5287938117980957 seconds\n",
      "Wrote graph to binary file in 0.0883023738861084 seconds\n",
      "Running Louvain modularity optimization\n",
      "After 1 runs, maximum modularity is Q = 0.610772\n",
      "After 2 runs, maximum modularity is Q = 0.617402\n",
      "After 3 runs, maximum modularity is Q = 0.61906\n",
      "After 16 runs, maximum modularity is Q = 0.620282\n",
      "Louvain completed 36 runs in 3.8361639976501465 seconds\n",
      "Sorting communities by size, please wait ...\n",
      "PhenoGraph completed in 6.86004114151001 seconds\n",
      "Finding 30 nearest neighbors using minkowski metric and 'auto' algorithm\n",
      "Neighbors computed in 0.02627277374267578 seconds\n",
      "Jaccard graph constructed in 1.0177912712097168 seconds\n",
      "Wrote graph to binary file in 0.009564399719238281 seconds\n",
      "Running Louvain modularity optimization\n",
      "After 1 runs, maximum modularity is Q = 0.555528\n",
      "After 2 runs, maximum modularity is Q = 0.556903\n",
      "After 4 runs, maximum modularity is Q = 0.559974\n",
      "Louvain completed 24 runs in 0.31809282302856445 seconds\n",
      "Sorting communities by size, please wait ...\n",
      "PhenoGraph completed in 2.296959638595581 seconds\n",
      "Finding 30 nearest neighbors using minkowski metric and 'auto' algorithm\n",
      "Neighbors computed in 0.028377294540405273 seconds\n",
      "Jaccard graph constructed in 0.9882922172546387 seconds\n",
      "Wrote graph to binary file in 0.020771503448486328 seconds\n",
      "Running Louvain modularity optimization\n",
      "After 1 runs, maximum modularity is Q = 0.511756\n",
      "After 2 runs, maximum modularity is Q = 0.516157\n",
      "After 3 runs, maximum modularity is Q = 0.518118\n",
      "Louvain completed 23 runs in 0.4065585136413574 seconds\n",
      "Sorting communities by size, please wait ...\n",
      "PhenoGraph completed in 2.328157901763916 seconds\n",
      "Finding 30 nearest neighbors using minkowski metric and 'auto' algorithm\n",
      "Neighbors computed in 0.0292205810546875 seconds\n",
      "Jaccard graph constructed in 1.0552036762237549 seconds\n",
      "Wrote graph to binary file in 0.02329874038696289 seconds\n",
      "Running Louvain modularity optimization\n",
      "After 1 runs, maximum modularity is Q = 0.498199\n",
      "Louvain completed 21 runs in 0.3657050132751465 seconds\n",
      "Sorting communities by size, please wait ...\n",
      "PhenoGraph completed in 2.4028067588806152 seconds\n",
      "Finding 30 nearest neighbors using minkowski metric and 'auto' algorithm\n",
      "Neighbors computed in 0.04334139823913574 seconds\n",
      "Jaccard graph constructed in 1.1532161235809326 seconds\n",
      "Wrote graph to binary file in 0.023009300231933594 seconds\n",
      "Running Louvain modularity optimization\n",
      "After 1 runs, maximum modularity is Q = 0.626219\n",
      "Louvain completed 21 runs in 0.4885265827178955 seconds\n",
      "Sorting communities by size, please wait ...\n",
      "PhenoGraph completed in 2.5881993770599365 seconds\n",
      "Finding 30 nearest neighbors using minkowski metric and 'auto' algorithm\n",
      "Neighbors computed in 0.027692317962646484 seconds\n",
      "Jaccard graph constructed in 0.9717090129852295 seconds\n",
      "Wrote graph to binary file in 0.014124393463134766 seconds\n",
      "Running Louvain modularity optimization\n",
      "After 1 runs, maximum modularity is Q = 0.52994\n",
      "After 2 runs, maximum modularity is Q = 0.533928\n",
      "Louvain completed 22 runs in 0.2834453582763672 seconds\n",
      "Sorting communities by size, please wait ...\n",
      "PhenoGraph completed in 2.177633047103882 seconds\n",
      "Finding 30 nearest neighbors using minkowski metric and 'auto' algorithm\n",
      "Neighbors computed in 0.11731886863708496 seconds\n",
      "Jaccard graph constructed in 1.208589792251587 seconds\n",
      "Wrote graph to binary file in 0.02635335922241211 seconds\n",
      "Running Louvain modularity optimization\n",
      "After 1 runs, maximum modularity is Q = 0.63421\n",
      "After 5 runs, maximum modularity is Q = 0.63584\n",
      "After 7 runs, maximum modularity is Q = 0.639887\n",
      "Louvain completed 27 runs in 1.1232714653015137 seconds\n",
      "Sorting communities by size, please wait ...\n",
      "PhenoGraph completed in 3.409999370574951 seconds\n",
      "Finding 30 nearest neighbors using minkowski metric and 'auto' algorithm\n",
      "Neighbors computed in 0.12226629257202148 seconds\n",
      "Jaccard graph constructed in 1.4425292015075684 seconds\n",
      "Wrote graph to binary file in 0.061812639236450195 seconds\n",
      "Running Louvain modularity optimization\n",
      "After 1 runs, maximum modularity is Q = 0.716873\n",
      "Louvain completed 21 runs in 1.324561595916748 seconds\n",
      "Sorting communities by size, please wait ...\n",
      "PhenoGraph completed in 3.8908944129943848 seconds\n",
      "Finding 30 nearest neighbors using minkowski metric and 'auto' algorithm\n",
      "Neighbors computed in 11.75201153755188 seconds\n",
      "Jaccard graph constructed in 5.808691501617432 seconds\n",
      "Wrote graph to binary file in 0.6200275421142578 seconds\n",
      "Running Louvain modularity optimization\n",
      "After 1 runs, maximum modularity is Q = 0.848293\n",
      "After 2 runs, maximum modularity is Q = 0.850512\n",
      "Louvain completed 22 runs in 25.33363914489746 seconds\n",
      "Sorting communities by size, please wait ...\n",
      "PhenoGraph completed in 44.57114100456238 seconds\n",
      "ACDC processing time: 168.75 seconds\n"
     ]
    }
   ],
   "source": [
    "result = []\n",
    "score_final = []\n",
    "process_time = []\n",
    "\n",
    "X = X0\n",
    "y_true = y0\n",
    "\n",
    "# Start timing\n",
    "tic = time.perf_counter()\n",
    "mk_model = compute_marker_model(pd.DataFrame(X, columns=channels), table, 0.0)\n",
    "\n",
    "# Compute posterior probabilities\n",
    "score = get_score_mat(X, [], table, [], mk_model)\n",
    "score = np.concatenate([score, 1.0 - score.max(axis=1)[:, np.newaxis]], axis=1)\n",
    "\n",
    "# Get indices\n",
    "ct_index = get_unique_index(X, score, table, thres)\n",
    "\n",
    "# Running ACDC\n",
    "tic = time.perf_counter()  # Start timing for ACDC\n",
    "res_c = get_landmarks(X, score, ct_index, idx2ct, phenograph, thres)\n",
    "\n",
    "landmark_mat, landmark_label = output_feature_matrix(res_c, [idx2ct[i] for i in range(len(idx2ct))])\n",
    "landmark_label = np.array(landmark_label)\n",
    "\n",
    "# End timing for ACDC\n",
    "toc = time.perf_counter()\n",
    "\n",
    "# Compute elapsed time\n",
    "time0 = toc - tic\n",
    "print(f\"ACDC processing time: {time0:.2f} seconds\")"
   ]
  },
  {
   "cell_type": "code",
   "execution_count": 13,
   "metadata": {
    "collapsed": false,
    "jupyter": {
     "outputs_hidden": false
    }
   },
   "outputs": [
    {
     "name": "stdout",
     "output_type": "stream",
     "text": [
      "Processing times: [254.2722597781103, 287.731193800224, 317.5095457902644]\n",
      "Accuracy scores: [0.9280707548900877, 0.9228840202086926, 0.9193731880068994]\n"
     ]
    }
   ],
   "source": [
    "score_final = []\n",
    "process_time = []\n",
    "\n",
    "for n_neighbor in [10, 20, 30]:\n",
    "    # Start timing\n",
    "    tic = time.perf_counter()\n",
    "    \n",
    "    # Perform classification\n",
    "    lp, y_pred = rm_classify(X, landmark_mat, landmark_label, n_neighbor)\n",
    "    \n",
    "    # End timing\n",
    "    toc = time.perf_counter()\n",
    "    time1 = toc - tic  # Time for this iteration\n",
    "    \n",
    "    # Add total processing time\n",
    "    process_time.append(time0 + time1)\n",
    "\n",
    "    # Append the accuracy score\n",
    "    score_final.append(accuracy_score(y_true, [ct2idx[c] for c in y_pred]))    \n",
    "\n",
    "# Print the results\n",
    "print(\"Processing times:\", process_time)\n",
    "print(\"Accuracy scores:\", score_final)"
   ]
  },
  {
   "cell_type": "code",
   "execution_count": 15,
   "metadata": {
    "collapsed": false,
    "jupyter": {
     "outputs_hidden": false
    }
   },
   "outputs": [
    {
     "data": {
      "text/plain": [
       "(81747, 13)"
      ]
     },
     "execution_count": 15,
     "metadata": {},
     "output_type": "execute_result"
    }
   ],
   "source": [
    "X.shape"
   ]
  }
 ],
 "metadata": {
  "anaconda-cloud": {},
  "kernelspec": {
   "display_name": "Python 3 (ipykernel)",
   "language": "python",
   "name": "python3"
  },
  "language_info": {
   "codemirror_mode": {
    "name": "ipython",
    "version": 3
   },
   "file_extension": ".py",
   "mimetype": "text/x-python",
   "name": "python",
   "nbconvert_exporter": "python",
   "pygments_lexer": "ipython3",
   "version": "3.10.6"
  }
 },
 "nbformat": 4,
 "nbformat_minor": 4
}
