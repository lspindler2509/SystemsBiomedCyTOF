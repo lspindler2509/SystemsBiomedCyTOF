{
 "cells": [
  {
   "cell_type": "code",
   "execution_count": 1,
   "id": "df0d26e5",
   "metadata": {},
   "outputs": [
    {
     "name": "stdout",
     "output_type": "stream",
     "text": [
      "Looking in indexes: https://pypi.org/simple, https://pypi.ngc.nvidia.com\n",
      "Requirement already satisfied: pandas in /usr/local/lib/python3.10/dist-packages (1.5.2)\n",
      "Requirement already satisfied: numpy in /usr/local/lib/python3.10/dist-packages (1.22.2)\n",
      "Requirement already satisfied: scikit-learn in /usr/local/lib/python3.10/dist-packages (1.2.0)\n",
      "Requirement already satisfied: scipy in /usr/local/lib/python3.10/dist-packages (1.10.1)\n",
      "Requirement already satisfied: seaborn in /usr/local/lib/python3.10/dist-packages (0.12.2)\n",
      "Requirement already satisfied: matplotlib in /usr/local/lib/python3.10/dist-packages (3.7.1)\n",
      "Collecting phenograph\n",
      "  Downloading PhenoGraph-1.5.7-py3-none-any.whl (159 kB)\n",
      "\u001b[K     |████████████████████████████████| 159 kB 1.7 MB/s eta 0:00:01\n",
      "\u001b[?25hRequirement already satisfied: pytz>=2020.1 in /usr/local/lib/python3.10/dist-packages (from pandas) (2023.3)\n",
      "Requirement already satisfied: python-dateutil>=2.8.1 in /usr/local/lib/python3.10/dist-packages (from pandas) (2.8.2)\n",
      "Requirement already satisfied: threadpoolctl>=2.0.0 in /usr/local/lib/python3.10/dist-packages (from scikit-learn) (3.1.0)\n",
      "Requirement already satisfied: joblib>=1.1.1 in /usr/local/lib/python3.10/dist-packages (from scikit-learn) (1.2.0)\n",
      "Requirement already satisfied: pillow>=6.2.0 in /usr/local/lib/python3.10/dist-packages (from matplotlib) (9.2.0)\n",
      "Requirement already satisfied: kiwisolver>=1.0.1 in /usr/local/lib/python3.10/dist-packages (from matplotlib) (1.4.4)\n",
      "Requirement already satisfied: cycler>=0.10 in /usr/local/lib/python3.10/dist-packages (from matplotlib) (0.11.0)\n",
      "Requirement already satisfied: contourpy>=1.0.1 in /usr/local/lib/python3.10/dist-packages (from matplotlib) (1.0.7)\n",
      "Requirement already satisfied: packaging>=20.0 in /usr/local/lib/python3.10/dist-packages (from matplotlib) (23.1)\n",
      "Requirement already satisfied: fonttools>=4.22.0 in /usr/local/lib/python3.10/dist-packages (from matplotlib) (4.39.4)\n",
      "Requirement already satisfied: pyparsing>=2.3.1 in /usr/local/lib/python3.10/dist-packages (from matplotlib) (3.0.9)\n",
      "Requirement already satisfied: setuptools>=18.0.1 in /usr/local/lib/python3.10/dist-packages (from phenograph) (65.5.1)\n",
      "Requirement already satisfied: psutil>4 in /usr/local/lib/python3.10/dist-packages (from phenograph) (5.9.4)\n",
      "Collecting leidenalg>=0.8.2\n",
      "  Downloading leidenalg-0.10.2-cp38-abi3-manylinux_2_17_x86_64.manylinux2014_x86_64.whl (2.0 MB)\n",
      "\u001b[K     |████████████████████████████████| 2.0 MB 10.7 MB/s eta 0:00:01\n",
      "\u001b[?25hCollecting igraph<0.12,>=0.10.0\n",
      "  Downloading igraph-0.11.8-cp39-abi3-manylinux_2_17_x86_64.manylinux2014_x86_64.whl (3.1 MB)\n",
      "\u001b[K     |████████████████████████████████| 3.1 MB 39.3 MB/s eta 0:00:01\n",
      "\u001b[?25hCollecting texttable>=1.6.2\n",
      "  Downloading texttable-1.7.0-py2.py3-none-any.whl (10 kB)\n",
      "Requirement already satisfied: six>=1.5 in /usr/local/lib/python3.10/dist-packages (from python-dateutil>=2.8.1->pandas) (1.16.0)\n",
      "Installing collected packages: texttable, igraph, leidenalg, phenograph\n",
      "Successfully installed igraph-0.11.8 leidenalg-0.10.2 phenograph-1.5.7 texttable-1.7.0\n",
      "\u001b[33mWARNING: You are using pip version 21.2.4; however, version 24.3.1 is available.\n",
      "You should consider upgrading via the '/usr/bin/python -m pip install --upgrade pip' command.\u001b[0m\n"
     ]
    }
   ],
   "source": [
    "!pip install pandas numpy scikit-learn scipy seaborn matplotlib phenograph"
   ]
  },
  {
   "cell_type": "markdown",
   "id": "9dfba339",
   "metadata": {},
   "source": [
    "# ACDC on the Bodenmiller dataset\n",
    "\n",
    "Key infos on the dataset:\n",
    "* Total samples: 16\n",
    "* Paired replicates: 8 pairs (stimulated and reference conditions for each patient)\n",
    "* 24 markers in total. Markers are classified as type markers (cell identity) or state markers (activation or signaling state).\n",
    "\n",
    "\n",
    "Input to ACDC:\n",
    "\n",
    "* FCS data: Flow or mass cytometry data files (e.g., PBMC8_30min_patient1_BCR-XL.fcs)\n",
    "* Cell type-marker table: Specifies which markers define each cell type\n",
    "* Metadata (to link samples, conditions, and patients)\n",
    "\n",
    "\n",
    "Output from ACDC:\n",
    "\n",
    "* Classified cell populations: Each cell is annotated with a cell type.\n",
    "* Unknown populations: Cells that do not fit predefined markers.\n",
    "* Visualizations such as:\n",
    "1) UMAP or t-SNE plots of cell populations.\n",
    "2) Heatmaps of marker expressions.\n",
    "3) Comparison of cell frequencies between conditions."
   ]
  },
  {
   "cell_type": "code",
   "execution_count": 11,
   "id": "a6c61712",
   "metadata": {},
   "outputs": [],
   "source": [
    "import pandas as pd\n",
    "import numpy as np \n",
    "from collections import Counter\n",
    "import seaborn as sns\n",
    "import matplotlib.pyplot as plt\n",
    "import phenograph\n",
    "from sklearn.manifold import TSNE\n",
    "import sys\n",
    "sys.path.append('/dss/dsshome1/0F/di93quv/Systems_biomedicine/acdc/')\n",
    "from ACDC.cell_type_annotation import *\n",
    "import ACDC\n",
    "import matplotlib as mpl\n",
    "import matplotlib.patches as mpatches\n",
    "%matplotlib inline \n",
    "import umap.umap_ as umap\n",
    "from matplotlib import cm"
   ]
  },
  {
   "cell_type": "code",
   "execution_count": 2,
   "id": "4d166286",
   "metadata": {},
   "outputs": [],
   "source": [
    "def load_data(data_path, panel_data_path):\n",
    "    \"\"\"Load the main dataset and the panel data.\"\"\"\n",
    "    # Load panel data\n",
    "    panel_data = pd.DataFrame({\n",
    "        \"fcs_colname\": [\"CD3(110:114)Dd\", \"CD45(In115)Dd\", \"pNFkB(Nd142)Dd\", \"pp38(Nd144)Dd\", \"CD4(Nd145)Dd\",\n",
    "                        \"CD20(Sm147)Dd\", \"CD33(Nd148)Dd\", \"pStat5(Nd150)Dd\", \"CD123(Eu151)Dd\", \"pAkt(Sm152)Dd\",\n",
    "                        \"pStat1(Eu153)Dd\", \"pSHP2(Sm154)Dd\", \"pZap70(Gd156)Dd\", \"pStat3(Gd158)Dd\", \"CD14(Gd160)Dd\",\n",
    "                        \"pSlp76(Dy164)Dd\", \"pBtk(Er166)Dd\", \"pPlcg2(Er167)Dd\", \"pErk(Er168)Dd\", \"pLat(Er170)Dd\",\n",
    "                        \"IgM(Yb171)Dd\", \"pS6(Yb172)Dd\", \"HLA-DR(Yb174)Dd\", \"CD7(Yb176)Dd\"],\n",
    "        \"antigen\": [\"CD3\", \"CD45\", \"pNFkB\", \"pp38\", \"CD4\", \"CD20\", \"CD33\", \"pStat5\", \"CD123\", \"pAkt\",\n",
    "                    \"pStat1\", \"pSHP2\", \"pZap70\", \"pStat3\", \"CD14\", \"pSlp76\", \"pBtk\", \"pPlcg2\", \"pErk\",\n",
    "                    \"pLat\", \"IgM\", \"pS6\", \"HLA-DR\", \"CD7\"],\n",
    "        \"marker_class\": [\"type\", \"type\", \"state\", \"state\", \"type\", \"type\", \"type\", \"state\", \"type\", \"state\",\n",
    "                         \"state\", \"state\", \"state\", \"state\", \"type\", \"state\", \"state\", \"state\", \"state\",\n",
    "                         \"state\", \"type\", \"state\", \"type\", \"type\"]\n",
    "    })\n",
    "\n",
    "    # Load main dataset\n",
    "    df = pd.read_csv(data_path, sep=',')\n",
    "    fcs_to_antigen = dict(zip(panel_data[\"fcs_colname\"], panel_data[\"antigen\"]))\n",
    "\n",
    "    # Rename columns\n",
    "    df = df.rename(columns=fcs_to_antigen)\n",
    "    return df, panel_data"
   ]
  },
  {
   "cell_type": "code",
   "execution_count": 3,
   "id": "6838c806",
   "metadata": {},
   "outputs": [],
   "source": [
    "def preprocess_data(df, desired_antigens, available_channels):\n",
    "    \"\"\"Subset and preprocess data.\"\"\"\n",
    "    # Subset columns\n",
    "    subset_columns = [col for col in desired_antigens if col in df.columns]\n",
    "    df = df[subset_columns]\n",
    "\n",
    "    # ArcSinh transformation\n",
    "    df[available_channels] = np.arcsinh((df[available_channels].values - 1.0) / 5.0)\n",
    "    return df"
   ]
  },
  {
   "cell_type": "code",
   "execution_count": 4,
   "id": "a18dd6e8",
   "metadata": {},
   "outputs": [],
   "source": [
    "def compute_cell_type_scores(df, table, threshold):\n",
    "    \"\"\"Compute cell type scores.\"\"\"\n",
    "    # Extract features\n",
    "    X0 = df.to_numpy()\n",
    "\n",
    "    # Compute scores\n",
    "    mk_model = compute_marker_model(df, table, 0.0)\n",
    "    score0 = get_score_mat(X0, [], table, [], mk_model)\n",
    "    score0 = np.concatenate([score0, 1.0 - score0.max(axis=1)[:, np.newaxis]], axis=1)\n",
    "\n",
    "    # Compute unique index for clusters\n",
    "    ct_index0 = get_unique_index(X0, score0, table, threshold)\n",
    "    return X0, score0, ct_index0"
   ]
  },
  {
   "cell_type": "code",
   "execution_count": 5,
   "id": "551f5e72",
   "metadata": {},
   "outputs": [],
   "source": [
    "def plot_heatmap(feature_matrix, table):\n",
    "    \"\"\"Plot heatmap of average marker expression.\"\"\"\n",
    "    sns.set()\n",
    "    fig = plt.figure(figsize=(6, 4))\n",
    "    feature_mat_df = pd.DataFrame(feature_matrix, columns=table.columns, index=table.index)\n",
    "    ax = sns.heatmap(feature_mat_df, vmin=0.0, vmax=8.5, cmap=\"YlGnBu\")\n",
    "    plt.xticks(rotation=90)\n",
    "    plt.show()"
   ]
  },
  {
   "cell_type": "code",
   "execution_count": 6,
   "id": "6b40a9ca",
   "metadata": {},
   "outputs": [],
   "source": [
    "def plot_dim_reduction(X_plot, y_plot, idx2ct, landmark_label, method='tsne'):\n",
    "    \"\"\"Plot t-SNE or UMAP projections.\"\"\"\n",
    "    if method == 'tsne':\n",
    "        reducer = TSNE(n_components=2, random_state=0)\n",
    "    elif method == 'umap':\n",
    "        reducer = umap.UMAP(n_components=2, random_state=0)\n",
    "    else:\n",
    "        raise ValueError(\"Invalid method. Choose 'tsne' or 'umap'.\")\n",
    "\n",
    "    Xre = reducer.fit_transform(X_plot)\n",
    "\n",
    "    # Plot projections\n",
    "    cmap = cm.Accent\n",
    "    fig = plt.figure(figsize=(16, 12))\n",
    "\n",
    "    for idx, key in enumerate(idx2ct):\n",
    "        indices = np.where(y_plot == key)[0]\n",
    "        plt.plot(Xre[indices, 0], Xre[indices, 1], '.', color=cmap(idx / len(idx2ct)), alpha=0.6, label=key)\n",
    "\n",
    "    # Plot landmark points\n",
    "    for idx, key in enumerate(landmark_label):\n",
    "        ax, ay = Xre[idx, 0], Xre[idx, 1]\n",
    "        plt.plot(ax, ay, 'o', color=cmap(idx2ct.index(key) / len(idx2ct)), alpha=1, markersize=10, markeredgewidth=0.5)\n",
    "\n",
    "    # Add legend\n",
    "    plt.legend(handles=[mpatches.Patch(color=cmap(idx / len(idx2ct)), label=key) for idx, key in enumerate(idx2ct)],\n",
    "               bbox_to_anchor=(1.05, 1), loc=2, borderaxespad=0., prop={'size': 16})\n",
    "    plt.xticks([])\n",
    "    plt.yticks([])\n",
    "    plt.title(f\"{method.upper()} Projection of Data\", fontsize=20)\n",
    "    plt.show()"
   ]
  },
  {
   "cell_type": "code",
   "execution_count": 7,
   "id": "36f881bf",
   "metadata": {},
   "outputs": [],
   "source": [
    "def plot_histogram(df, marker):\n",
    "    \"\"\"Plot histogram of marker expression.\"\"\"\n",
    "    sns.histplot(df[marker], kde=True, bins=30, color='blue')\n",
    "    plt.title(f\"Histogram of {marker} Expression\")\n",
    "    plt.xlabel(marker)\n",
    "    plt.ylabel(\"Frequency\")\n",
    "    plt.show()"
   ]
  },
  {
   "cell_type": "code",
   "execution_count": 8,
   "id": "5211b76e",
   "metadata": {},
   "outputs": [],
   "source": [
    "def plot_cell_type_distribution(cell_type_counts):\n",
    "    \"\"\"Plot cell type distribution as a pie chart.\"\"\"\n",
    "    plt.figure(figsize=(8, 8))\n",
    "    plt.pie(cell_type_counts.values(), labels=cell_type_counts.keys(), autopct='%1.1f%%', startangle=140, colors=cm.Accent.colors)\n",
    "    plt.title(\"Cell Type Distribution\")\n",
    "    plt.show()"
   ]
  },
  {
   "cell_type": "code",
   "execution_count": 12,
   "id": "7d73e2b2",
   "metadata": {},
   "outputs": [],
   "source": [
    "def main():\n",
    "    # Paths\n",
    "    data_path = '/dss/dsshome1/0F/di93quv/Systems_biomedicine/acdc/data/CyToF_data_Bodenmiller/csv_files/PBMC8_30min_patient1_BCR-XL.csv'\n",
    "    panel_data_path = None  # Not used here\n",
    "\n",
    "    # Load and preprocess data\n",
    "    df, panel_data = load_data(data_path, panel_data_path)\n",
    "    desired_antigens = ['LD', 'CD19', 'CD161', 'CD4', 'CD8', 'HLA-DR', 'CD14', 'CD3', 'CD11c', 'CD69', 'CD56', 'CD16', 'VA72', 'GDTCR']\n",
    "    available_channels = ['CD4', 'HLA-DR', 'CD14', 'CD3']\n",
    "    df = preprocess_data(df, desired_antigens, available_channels)\n",
    "\n",
    "    # Define cell type-marker table\n",
    "    table = pd.read_csv(\"../data/CyToF_data_Bodenmiller/ACDC_compatible_classification_matrix.csv\").set_index('Cell Type')\n",
    "\n",
    "    # Compute scores\n",
    "    threshold = 0.5\n",
    "    X0, score0, ct_index0 = compute_cell_type_scores(df, table, threshold)\n",
    "\n",
    "    # Plotting\n",
    "    plot_histogram(df, 'CD4')  # Example marker\n",
    "    cell_type_counts = {'Type1': 50, 'Type2': 100}  # Replace with actual counts\n",
    "    plot_cell_type_distribution(cell_type_counts)\n",
    "    plot_heatmap(score0, table)\n",
    "    plot_dim_reduction(X0, [], list(table.index), [], method='umap')"
   ]
  },
  {
   "cell_type": "code",
   "execution_count": 13,
   "id": "b2cb6a2a",
   "metadata": {},
   "outputs": [
    {
     "name": "stderr",
     "output_type": "stream",
     "text": [
      "/tmp/ipykernel_2517419/3007115261.py:8: SettingWithCopyWarning: \n",
      "A value is trying to be set on a copy of a slice from a DataFrame.\n",
      "Try using .loc[row_indexer,col_indexer] = value instead\n",
      "\n",
      "See the caveats in the documentation: https://pandas.pydata.org/pandas-docs/stable/user_guide/indexing.html#returning-a-view-versus-a-copy\n",
      "  df[available_channels] = np.arcsinh((df[available_channels].values - 1.0) / 5.0)\n"
     ]
    },
    {
     "ename": "KeyError",
     "evalue": "'LD'",
     "output_type": "error",
     "traceback": [
      "\u001b[0;31m---------------------------------------------------------------------------\u001b[0m",
      "\u001b[0;31mKeyError\u001b[0m                                  Traceback (most recent call last)",
      "File \u001b[0;32m/usr/local/lib/python3.10/dist-packages/pandas/core/indexes/base.py:3803\u001b[0m, in \u001b[0;36mIndex.get_loc\u001b[0;34m(self, key, method, tolerance)\u001b[0m\n\u001b[1;32m   3802\u001b[0m \u001b[38;5;28;01mtry\u001b[39;00m:\n\u001b[0;32m-> 3803\u001b[0m     \u001b[38;5;28;01mreturn\u001b[39;00m \u001b[38;5;28;43mself\u001b[39;49m\u001b[38;5;241;43m.\u001b[39;49m\u001b[43m_engine\u001b[49m\u001b[38;5;241;43m.\u001b[39;49m\u001b[43mget_loc\u001b[49m\u001b[43m(\u001b[49m\u001b[43mcasted_key\u001b[49m\u001b[43m)\u001b[49m\n\u001b[1;32m   3804\u001b[0m \u001b[38;5;28;01mexcept\u001b[39;00m \u001b[38;5;167;01mKeyError\u001b[39;00m \u001b[38;5;28;01mas\u001b[39;00m err:\n",
      "File \u001b[0;32m/usr/local/lib/python3.10/dist-packages/pandas/_libs/index.pyx:138\u001b[0m, in \u001b[0;36mpandas._libs.index.IndexEngine.get_loc\u001b[0;34m()\u001b[0m\n",
      "File \u001b[0;32m/usr/local/lib/python3.10/dist-packages/pandas/_libs/index.pyx:165\u001b[0m, in \u001b[0;36mpandas._libs.index.IndexEngine.get_loc\u001b[0;34m()\u001b[0m\n",
      "File \u001b[0;32mpandas/_libs/hashtable_class_helper.pxi:5745\u001b[0m, in \u001b[0;36mpandas._libs.hashtable.PyObjectHashTable.get_item\u001b[0;34m()\u001b[0m\n",
      "File \u001b[0;32mpandas/_libs/hashtable_class_helper.pxi:5753\u001b[0m, in \u001b[0;36mpandas._libs.hashtable.PyObjectHashTable.get_item\u001b[0;34m()\u001b[0m\n",
      "\u001b[0;31mKeyError\u001b[0m: 'LD'",
      "\nThe above exception was the direct cause of the following exception:\n",
      "\u001b[0;31mKeyError\u001b[0m                                  Traceback (most recent call last)",
      "Cell \u001b[0;32mIn[13], line 2\u001b[0m\n\u001b[1;32m      1\u001b[0m \u001b[38;5;28;01mif\u001b[39;00m \u001b[38;5;18m__name__\u001b[39m \u001b[38;5;241m==\u001b[39m \u001b[38;5;124m\"\u001b[39m\u001b[38;5;124m__main__\u001b[39m\u001b[38;5;124m\"\u001b[39m:\n\u001b[0;32m----> 2\u001b[0m     \u001b[43mmain\u001b[49m\u001b[43m(\u001b[49m\u001b[43m)\u001b[49m\n",
      "Cell \u001b[0;32mIn[12], line 17\u001b[0m, in \u001b[0;36mmain\u001b[0;34m()\u001b[0m\n\u001b[1;32m     15\u001b[0m \u001b[38;5;66;03m# Compute scores\u001b[39;00m\n\u001b[1;32m     16\u001b[0m threshold \u001b[38;5;241m=\u001b[39m \u001b[38;5;241m0.5\u001b[39m\n\u001b[0;32m---> 17\u001b[0m X0, score0, ct_index0 \u001b[38;5;241m=\u001b[39m \u001b[43mcompute_cell_type_scores\u001b[49m\u001b[43m(\u001b[49m\u001b[43mdf\u001b[49m\u001b[43m,\u001b[49m\u001b[43m \u001b[49m\u001b[43mtable\u001b[49m\u001b[43m,\u001b[49m\u001b[43m \u001b[49m\u001b[43mthreshold\u001b[49m\u001b[43m)\u001b[49m\n\u001b[1;32m     19\u001b[0m \u001b[38;5;66;03m# Plotting\u001b[39;00m\n\u001b[1;32m     20\u001b[0m plot_histogram(df, \u001b[38;5;124m'\u001b[39m\u001b[38;5;124mCD4\u001b[39m\u001b[38;5;124m'\u001b[39m)  \u001b[38;5;66;03m# Example marker\u001b[39;00m\n",
      "Cell \u001b[0;32mIn[4], line 7\u001b[0m, in \u001b[0;36mcompute_cell_type_scores\u001b[0;34m(df, table, threshold)\u001b[0m\n\u001b[1;32m      4\u001b[0m X0 \u001b[38;5;241m=\u001b[39m df\u001b[38;5;241m.\u001b[39mto_numpy()\n\u001b[1;32m      6\u001b[0m \u001b[38;5;66;03m# Compute scores\u001b[39;00m\n\u001b[0;32m----> 7\u001b[0m mk_model \u001b[38;5;241m=\u001b[39m \u001b[43mcompute_marker_model\u001b[49m\u001b[43m(\u001b[49m\u001b[43mdf\u001b[49m\u001b[43m,\u001b[49m\u001b[43m \u001b[49m\u001b[43mtable\u001b[49m\u001b[43m,\u001b[49m\u001b[43m \u001b[49m\u001b[38;5;241;43m0.0\u001b[39;49m\u001b[43m)\u001b[49m\n\u001b[1;32m      8\u001b[0m score0 \u001b[38;5;241m=\u001b[39m get_score_mat(X0, [], table, [], mk_model)\n\u001b[1;32m      9\u001b[0m score0 \u001b[38;5;241m=\u001b[39m np\u001b[38;5;241m.\u001b[39mconcatenate([score0, \u001b[38;5;241m1.0\u001b[39m \u001b[38;5;241m-\u001b[39m score0\u001b[38;5;241m.\u001b[39mmax(axis\u001b[38;5;241m=\u001b[39m\u001b[38;5;241m1\u001b[39m)[:, np\u001b[38;5;241m.\u001b[39mnewaxis]], axis\u001b[38;5;241m=\u001b[39m\u001b[38;5;241m1\u001b[39m)\n",
      "File \u001b[0;32m~/Systems_biomedicine/acdc/ACDC/cell_type_annotation.py:30\u001b[0m, in \u001b[0;36mcompute_marker_model\u001b[0;34m(df, table, thres)\u001b[0m\n\u001b[1;32m     28\u001b[0m \u001b[38;5;28;01mfor\u001b[39;00m mk \u001b[38;5;129;01min\u001b[39;00m table\u001b[38;5;241m.\u001b[39mcolumns:  \u001b[38;5;66;03m# Updated to iterate over DataFrame columns\u001b[39;00m\n\u001b[1;32m     29\u001b[0m     gmm \u001b[38;5;241m=\u001b[39m GMM(n_components\u001b[38;5;241m=\u001b[39m\u001b[38;5;241m2\u001b[39m, n_init\u001b[38;5;241m=\u001b[39m\u001b[38;5;241m10\u001b[39m)\n\u001b[0;32m---> 30\u001b[0m     tmp \u001b[38;5;241m=\u001b[39m \u001b[43mdf\u001b[49m\u001b[43m[\u001b[49m\u001b[43mmk\u001b[49m\u001b[43m]\u001b[49m\u001b[38;5;241m.\u001b[39mto_numpy()  \u001b[38;5;66;03m# Replaced as_matrix() with to_numpy()\u001b[39;00m\n\u001b[1;32m     31\u001b[0m     tmp \u001b[38;5;241m=\u001b[39m tmp[tmp \u001b[38;5;241m>\u001b[39m thres]  \u001b[38;5;66;03m# Apply threshold\u001b[39;00m\n\u001b[1;32m     32\u001b[0m     \u001b[38;5;28;01mif\u001b[39;00m tmp\u001b[38;5;241m.\u001b[39msize \u001b[38;5;241m==\u001b[39m \u001b[38;5;241m0\u001b[39m:  \u001b[38;5;66;03m# Skip markers with no valid data\u001b[39;00m\n",
      "File \u001b[0;32m/usr/local/lib/python3.10/dist-packages/pandas/core/frame.py:3805\u001b[0m, in \u001b[0;36mDataFrame.__getitem__\u001b[0;34m(self, key)\u001b[0m\n\u001b[1;32m   3803\u001b[0m \u001b[38;5;28;01mif\u001b[39;00m \u001b[38;5;28mself\u001b[39m\u001b[38;5;241m.\u001b[39mcolumns\u001b[38;5;241m.\u001b[39mnlevels \u001b[38;5;241m>\u001b[39m \u001b[38;5;241m1\u001b[39m:\n\u001b[1;32m   3804\u001b[0m     \u001b[38;5;28;01mreturn\u001b[39;00m \u001b[38;5;28mself\u001b[39m\u001b[38;5;241m.\u001b[39m_getitem_multilevel(key)\n\u001b[0;32m-> 3805\u001b[0m indexer \u001b[38;5;241m=\u001b[39m \u001b[38;5;28;43mself\u001b[39;49m\u001b[38;5;241;43m.\u001b[39;49m\u001b[43mcolumns\u001b[49m\u001b[38;5;241;43m.\u001b[39;49m\u001b[43mget_loc\u001b[49m\u001b[43m(\u001b[49m\u001b[43mkey\u001b[49m\u001b[43m)\u001b[49m\n\u001b[1;32m   3806\u001b[0m \u001b[38;5;28;01mif\u001b[39;00m is_integer(indexer):\n\u001b[1;32m   3807\u001b[0m     indexer \u001b[38;5;241m=\u001b[39m [indexer]\n",
      "File \u001b[0;32m/usr/local/lib/python3.10/dist-packages/pandas/core/indexes/base.py:3805\u001b[0m, in \u001b[0;36mIndex.get_loc\u001b[0;34m(self, key, method, tolerance)\u001b[0m\n\u001b[1;32m   3803\u001b[0m     \u001b[38;5;28;01mreturn\u001b[39;00m \u001b[38;5;28mself\u001b[39m\u001b[38;5;241m.\u001b[39m_engine\u001b[38;5;241m.\u001b[39mget_loc(casted_key)\n\u001b[1;32m   3804\u001b[0m \u001b[38;5;28;01mexcept\u001b[39;00m \u001b[38;5;167;01mKeyError\u001b[39;00m \u001b[38;5;28;01mas\u001b[39;00m err:\n\u001b[0;32m-> 3805\u001b[0m     \u001b[38;5;28;01mraise\u001b[39;00m \u001b[38;5;167;01mKeyError\u001b[39;00m(key) \u001b[38;5;28;01mfrom\u001b[39;00m \u001b[38;5;21;01merr\u001b[39;00m\n\u001b[1;32m   3806\u001b[0m \u001b[38;5;28;01mexcept\u001b[39;00m \u001b[38;5;167;01mTypeError\u001b[39;00m:\n\u001b[1;32m   3807\u001b[0m     \u001b[38;5;66;03m# If we have a listlike key, _check_indexing_error will raise\u001b[39;00m\n\u001b[1;32m   3808\u001b[0m     \u001b[38;5;66;03m#  InvalidIndexError. Otherwise we fall through and re-raise\u001b[39;00m\n\u001b[1;32m   3809\u001b[0m     \u001b[38;5;66;03m#  the TypeError.\u001b[39;00m\n\u001b[1;32m   3810\u001b[0m     \u001b[38;5;28mself\u001b[39m\u001b[38;5;241m.\u001b[39m_check_indexing_error(key)\n",
      "\u001b[0;31mKeyError\u001b[0m: 'LD'"
     ]
    }
   ],
   "source": [
    "if __name__ == \"__main__\":\n",
    "    main()"
   ]
  },
  {
   "cell_type": "code",
   "execution_count": null,
   "id": "22c32ae4",
   "metadata": {},
   "outputs": [],
   "source": []
  }
 ],
 "metadata": {
  "kernelspec": {
   "display_name": "Python 3 (ipykernel)",
   "language": "python",
   "name": "python3"
  },
  "language_info": {
   "codemirror_mode": {
    "name": "ipython",
    "version": 3
   },
   "file_extension": ".py",
   "mimetype": "text/x-python",
   "name": "python",
   "nbconvert_exporter": "python",
   "pygments_lexer": "ipython3",
   "version": "3.10.6"
  }
 },
 "nbformat": 4,
 "nbformat_minor": 5
}
